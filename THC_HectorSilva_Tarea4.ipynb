{
  "nbformat": 4,
  "nbformat_minor": 0,
  "metadata": {
    "colab": {
      "provenance": [],
      "authorship_tag": "ABX9TyNSp1y2AEKal6/V8biqehQS",
      "include_colab_link": true
    },
    "kernelspec": {
      "name": "python3",
      "display_name": "Python 3"
    },
    "language_info": {
      "name": "python"
    }
  },
  "cells": [
    {
      "cell_type": "markdown",
      "metadata": {
        "id": "view-in-github",
        "colab_type": "text"
      },
      "source": [
        "<a href=\"https://colab.research.google.com/github/hsilva-unam/THC_Semestre_06_01/blob/main/THC_HectorSilva_Tarea4.ipynb\" target=\"_parent\"><img src=\"https://colab.research.google.com/assets/colab-badge.svg\" alt=\"Open In Colab\"/></a>"
      ]
    },
    {
      "cell_type": "markdown",
      "source": [
        "**Taller de herramientas computacionales (THC)**\n",
        "\n",
        "*UNAM - Facultad de ciencias*\n",
        "\n",
        "Alumno: Héctor Silva Hernández\n",
        "\n",
        "Tarea 4"
      ],
      "metadata": {
        "id": "40kymUbXkl4M"
      }
    },
    {
      "cell_type": "code",
      "execution_count": 5,
      "metadata": {
        "colab": {
          "base_uri": "https://localhost:8080/"
        },
        "id": "kZ-AnL49kXAa",
        "outputId": "f46b0fb2-1902-4d32-9902-ed770f304ca0"
      },
      "outputs": [
        {
          "output_type": "stream",
          "name": "stdout",
          "text": [
            "\n",
            "Introduce los tres lados del triángulo:\n",
            "Lado a: 1\n",
            "Lado b: 1\n",
            "Lado c: 1\n",
            "\n",
            "RESULTADOS:\n",
            "Lados del triángulo: 1.0 ; 1.0 ; 1.0\n",
            "Área calculada con la fórmula de Herón: 0.4330127018922193\n",
            "Tipo de triángulo: Equilátero\n"
          ]
        }
      ],
      "source": [
        "# ----------------------------------------------\n",
        "# Programa: Cálculo del área de un triángulo con funciones Python\n",
        "# ----------------------------------------------\n",
        "\n",
        "import math  # para usar la raíz cuadrada\n",
        "\n",
        "# -------- VARIABLES GLOBALES -----------------\n",
        "a = 0\n",
        "b = 0\n",
        "c = 0\n",
        "\n",
        "# -------- FUNCIÓN -----------------------------\n",
        "def area_heron(a, b, c):\n",
        "\n",
        "    # -------- VARIABLES LOCALES --------\n",
        "    s = (a + b + c) / 2  # cálculo del semiperímetro\n",
        "    area = math.sqrt(s * (s-a) * (s-b) * (s-c))  # fórmula de Herón\n",
        "    return area\n",
        "\n",
        "\n",
        "# -------- FUNCIÓN PARA EL TIPO DE TRIÁNGULO --------\n",
        "def tipo_triangulo(a, b, c):\n",
        "    if a == b == c:\n",
        "        return \"Equilátero\"\n",
        "    elif a == b or a == c or b == c:\n",
        "        return \"Isósceles\"\n",
        "    else:\n",
        "        return \"Escaleno\"\n",
        "\n",
        "\n",
        "# -------- ENTRADA DE DATOS CON VALIDACIÓN --------\n",
        "while True:\n",
        "    print(\"\\nIntroduce los tres lados del triángulo:\")\n",
        "    a = float(input(\"Lado a: \"))\n",
        "    b = float(input(\"Lado b: \"))\n",
        "    c = float(input(\"Lado c: \"))\n",
        "\n",
        "    # Condición 1: Todos los lados deben ser positivos\n",
        "    if a <= 0 or b <= 0 or c <= 0:\n",
        "        print(\"Los lados deben ser valores positivos, ingresa otros datos:\")\n",
        "        continue  # vuelve a pedir\n",
        "\n",
        "    # Condición 2: Verificar la desigualdad triangular\n",
        "    if (a+b<=c) or (a+c<=b) or (b+c<=a):\n",
        "        print(\"No se cumple la desigualdad triangular, ingresa otros datos:\")\n",
        "        continue\n",
        "\n",
        "    # Si todo está correcto, salimos del ciclo\n",
        "    break\n",
        "\n",
        "\n",
        "# -------- USO DE FUNCIONES --------\n",
        "resultado = area_heron(a, b, c)\n",
        "tipo = tipo_triangulo(a, b, c)\n",
        "\n",
        "\n",
        "# Imprimimos resultados\n",
        "print(\"\\nRESULTADOS:\")\n",
        "print(\"Lados del triángulo:\", a,\";\", b,\";\",c)\n",
        "print(\"Área calculada con la fórmula de Herón:\", resultado)\n",
        "print(f\"Tipo de triángulo: {tipo}\")\n"
      ]
    }
  ]
}