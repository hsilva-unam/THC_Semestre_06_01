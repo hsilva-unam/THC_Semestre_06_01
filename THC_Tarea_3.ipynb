{
  "nbformat": 4,
  "nbformat_minor": 0,
  "metadata": {
    "colab": {
      "provenance": [],
      "authorship_tag": "ABX9TyPXtf/aN+7AsU1KA6ZZLSiS",
      "include_colab_link": true
    },
    "kernelspec": {
      "name": "python3",
      "display_name": "Python 3"
    },
    "language_info": {
      "name": "python"
    }
  },
  "cells": [
    {
      "cell_type": "markdown",
      "metadata": {
        "id": "view-in-github",
        "colab_type": "text"
      },
      "source": [
        "<a href=\"https://colab.research.google.com/github/hsilva-unam/THC_Semestre_06_01/blob/main/THC_Tarea_3.ipynb\" target=\"_parent\"><img src=\"https://colab.research.google.com/assets/colab-badge.svg\" alt=\"Open In Colab\"/></a>"
      ]
    },
    {
      "cell_type": "markdown",
      "source": [
        "**Taller de herramientas computacionales (THC)**\n",
        "\n",
        "*UNAM - Facultad de ciencias*\n",
        "\n",
        "Alumno: Hector Silva Hernandez\n",
        "\n",
        "Tarea 3\n"
      ],
      "metadata": {
        "id": "26Wx7aNcvV1v"
      }
    },
    {
      "cell_type": "markdown",
      "source": [
        "1.- Diseña un programa que convierta dólares americanos a pesos mexicanos, euros, libras esterlinas, yuanes y rublos utilizando una tasa de cambio fija. Muestre la tasa de cambio e imprima los cinco resultados."
      ],
      "metadata": {
        "id": "uzbU7cZEtEwv"
      }
    },
    {
      "cell_type": "code",
      "source": [
        "# Importe en dólares a convertir - Entrada del usuario\n",
        "usd = float(input(\"Cantidad en dólares (USD): \"))\n",
        "\n",
        "# Tasas de cambio a utilizar\n",
        "usd_a_mxn = 17.00   # 1 USD = 17.00 MXN\n",
        "usd_a_eur = 0.92    # 1 USD = 0.92 EUR\n",
        "usd_a_gbp = 0.78    # 1 USD = 0.78 GBP\n",
        "usd_a_cny = 7.10    # 1 USD = 7.10 CNY\n",
        "usd_a_rub = 90.00   # 1 USD = 90.00 RUB\n",
        "\n",
        "# Impresión de tasas de cambio\n",
        "print(\"\\nTASAS DE CAMBIO UTILIZADAS:\")\n",
        "print(\"USD -> MXN:\", usd_a_mxn)\n",
        "print(\"USD -> EUR:\", usd_a_eur)\n",
        "print(\"USD -> GBP:\", usd_a_gbp)\n",
        "print(\"USD -> CNY:\", usd_a_cny)\n",
        "print(\"USD -> RUB:\", usd_a_rub)\n",
        "\n",
        "# Conversiones\n",
        "mxn  = usd * usd_a_mxn\n",
        "eur  = usd * usd_a_eur\n",
        "gbp  = usd * usd_a_gbp\n",
        "cny  = usd * usd_a_cny\n",
        "rub  = usd * usd_a_rub\n",
        "\n",
        "print(\"\\nRESULTADOS:\")\n",
        "print(\"USD a MXN:\", mxn)\n",
        "print(\"USD a EUR:\", eur)\n",
        "print(\"USD a GBP:\", gbp)\n",
        "print(\"USD a CNY:\", cny)\n",
        "print(\"USD a RUB:\", rub)"
      ],
      "metadata": {
        "colab": {
          "base_uri": "https://localhost:8080/"
        },
        "id": "IgPgbeoztEdG",
        "outputId": "205eac45-52b0-4afc-e003-31188d75e27a"
      },
      "execution_count": 2,
      "outputs": [
        {
          "output_type": "stream",
          "name": "stdout",
          "text": [
            "Cantidad en dólares (USD): 25\n",
            "\n",
            "TASAS DE CAMBIO UTILIZADAS:\n",
            "USD -> MXN: 17.0\n",
            "USD -> EUR: 0.92\n",
            "USD -> GBP: 0.78\n",
            "USD -> CNY: 7.1\n",
            "USD -> RUB: 90.0\n",
            "\n",
            "RESULTADOS:\n",
            "USD a MXN: 425.0\n",
            "USD a EUR: 23.0\n",
            "USD a GBP: 19.5\n",
            "USD a CNY: 177.5\n",
            "USD a RUB: 2250.0\n"
          ]
        }
      ]
    },
    {
      "cell_type": "markdown",
      "source": [
        "2.- Crea un programa que solicite al usuario dos números y realice las operaciones básicas como suma, resta, multiplicación, división, potenciación y raíz cuadrada. Muestra los resultados usando variables."
      ],
      "metadata": {
        "id": "nCVesnTDuzi6"
      }
    },
    {
      "cell_type": "code",
      "source": [
        "import math\n",
        "\n",
        "a = float(input(\"Primer número: \"))\n",
        "b = float(input(\"Segundo número: \"))\n",
        "\n",
        "suma = a + b\n",
        "resta = a - b\n",
        "multiplicacion = a * b\n",
        "\n",
        "# Para la división primero usamos un condicional para evitar el error de dividir entre cero\n",
        "division = None\n",
        "if b != 0:\n",
        "    division = a / b\n",
        "\n",
        "potenciacion = a ** b\n",
        "\n",
        "raiz_a = None\n",
        "raiz_b = None\n",
        "if a >= 0:\n",
        "    raiz_a = math.sqrt(a)\n",
        "if b >= 0:\n",
        "    raiz_b = math.sqrt(b)\n",
        "\n",
        "print(\"\\nRESULTADOS:\")\n",
        "print(\"Suma:\", suma)\n",
        "print(\"Resta (a - b):\", resta)\n",
        "print(\"Multiplicación:\", multiplicacion)\n",
        "if division is None:\n",
        "    print(\"División (a / b): no definida (b = 0)\")\n",
        "else:\n",
        "    print(\"División (a / b):\", division)\n",
        "print(\"Potenciación (a ** b):\", potenciacion)\n",
        "print(\"Raíz cuadrada de a:\", \"no definida (a<0)\" if raiz_a is None else raiz_a)\n",
        "print(\"Raíz cuadrada de b:\", \"no definida (b<0)\" if raiz_b is None else raiz_b)"
      ],
      "metadata": {
        "colab": {
          "base_uri": "https://localhost:8080/"
        },
        "id": "iHYUDsbJvuCO",
        "outputId": "ba03f3b4-dd55-4fb7-cf54-237894b12a4f"
      },
      "execution_count": 3,
      "outputs": [
        {
          "output_type": "stream",
          "name": "stdout",
          "text": [
            "Primer número: 25\n",
            "Segundo número: 2.3\n",
            "\n",
            "RESULTADOS:\n",
            "Suma: 27.3\n",
            "Resta (a - b): 22.7\n",
            "Multiplicación: 57.49999999999999\n",
            "División (a / b): 10.869565217391305\n",
            "Potenciación (a ** b): 1641.5798777523537\n",
            "Raíz cuadrada de a: 5.0\n",
            "Raíz cuadrada de b: 1.51657508881031\n"
          ]
        }
      ]
    },
    {
      "cell_type": "markdown",
      "source": [
        "3.- Desarrolla un programa que calcule el precio final de un producto después de aplicar un descuento. El usuario debe ingresar el precio original y el porcentaje de descuento. Utiliza variables para almacenar los valores."
      ],
      "metadata": {
        "id": "UhcQ9WFGu1cp"
      }
    },
    {
      "cell_type": "code",
      "source": [
        "precio = float(input(\"Precio original: \"))\n",
        "descuento_pct = float(input(\"Descuento (%): \"))\n",
        "\n",
        "descuento = precio * (descuento_pct / 100)\n",
        "precio_final = precio - descuento\n",
        "\n",
        "print(\"\\nRESULTADOS:\")\n",
        "print(\"Precio original:\", precio)\n",
        "print(\"Descuento aplicado:\", descuento)\n",
        "print(\"Precio final:\", precio_final)"
      ],
      "metadata": {
        "id": "GYptx6F9wP1w"
      },
      "execution_count": null,
      "outputs": []
    },
    {
      "cell_type": "markdown",
      "source": [
        "4.- Conversión de coordenadas y localización geográfica."
      ],
      "metadata": {
        "id": "gMpk_nVBu3Ie"
      }
    },
    {
      "cell_type": "code",
      "source": [
        "# Coordenada 1: 40°41'21\"N , 74°2'40\"W\n",
        "lat_g, lat_m, lat_s = 40, 41, 21\n",
        "lon_g, lon_m, lon_s = 74, 2, 40\n",
        "\n",
        "lat_decimal = lat_g + lat_m/60 + lat_s/3600\n",
        "lon_decimal = lon_g + lon_m/60 + lon_s/3600\n",
        "\n",
        "# Signos: N=+, S=- ; E=+, W=-\n",
        "lat_decimal = +lat_decimal\n",
        "lon_decimal = -lon_decimal\n",
        "\n",
        "\n",
        "# La Coordenada 1 es Nueva York - Estatua de la Libertad, e imprimirá esto:\n",
        "\n",
        "print(\"Coordenada 1 (Nueva York - Estatua de la Libertad):\", round(lat_decimal, 3), \",\", round(lon_decimal, 3))\n",
        "\n",
        "# Coordenada 2: 48°51'12\"N , 2°20'55\"E\n",
        "lat_g, lat_m, lat_s = 48, 51, 12\n",
        "lon_g, lon_m, lon_s = 2, 20, 55\n",
        "\n",
        "lat_decimal = lat_g + lat_m/60 + lat_s/3600\n",
        "lon_decimal = lon_g + lon_m/60 + lon_s/3600\n",
        "\n",
        "lat_decimal = +lat_decimal\n",
        "lon_decimal = +lon_decimal\n",
        "\n",
        "# La Coordenada 1 es París - Torre Eiffel, e imprimirá esto:\n",
        "\n",
        "print(\"Coordenada 2 (París - Torre Eiffel):\", round(lat_decimal, 3), \",\", round(lon_decimal, 3))\n",
        "\n",
        "\n",
        "# Coordenada 3: 34°3'8\"S , 151°12'33\"E\n",
        "lat_g, lat_m, lat_s = 34, 3, 8\n",
        "lon_g, lon_m, lon_s = 151, 12, 33\n",
        "\n",
        "lat_decimal = lat_g + lat_m/60 + lat_s/3600\n",
        "lon_decimal = lon_g + lon_m/60 + lon_s/3600\n",
        "\n",
        "lat_decimal = -lat_decimal\n",
        "lon_decimal = +lon_decimal\n",
        "\n",
        "# La Coordenada 1 es Sidney, e imprimirá esto:\n",
        "\n",
        "print(\"Coordenada 3 (Sidney):\", round(lat_decimal, 3), \",\", round(lon_decimal, 3))\n"
      ],
      "metadata": {
        "colab": {
          "base_uri": "https://localhost:8080/"
        },
        "id": "W1Zkm43UwYQK",
        "outputId": "b9f3d6b4-fb15-4c55-cbd8-06bbede71847"
      },
      "execution_count": 6,
      "outputs": [
        {
          "output_type": "stream",
          "name": "stdout",
          "text": [
            "Coordenada 1 (Nueva York - Estatua de la Libertad): 40.689 , -74.044\n",
            "Coordenada 2 (París - Torre Eiffel): 48.853 , 2.349\n",
            "Coordenada 3 (Sidney): -34.052 , 151.209\n"
          ]
        }
      ]
    },
    {
      "cell_type": "markdown",
      "source": [
        " 5. Un objeto de masa m=2 kg se encuentra a una altura h=10 cm y tiene una velocidad de v=3 m/s. Calcular:\n",
        "\n",
        "a) La energía cinética (Ec),\n",
        "\n",
        "b) La energía potencial gravitacional (Ep),\n",
        "\n",
        "c) La energía mecánica total (Em).\n",
        "\n",
        "Considere g=9.8m/s^2. Revise las unidades."
      ],
      "metadata": {
        "id": "TTYQExGmvERF"
      }
    },
    {
      "cell_type": "code",
      "source": [
        "#Datos\n",
        "\n",
        "m = 2.0\n",
        "h_cm = 10 # Altura en cm\n",
        "v = 3.0\n",
        "g = 9.8\n",
        "\n",
        "h = h_cm / 100  # Altura en metros\n",
        "\n",
        "Ec = (1/2) * m * (v ** 2)   # J\n",
        "Ep = m * g * h            # J\n",
        "Em = Ec + Ep              # J\n",
        "\n",
        "print(\"Energía cinética Ec:\", Ec, \"J\")\n",
        "print(\"Energía potencial Ep:\", Ep, \"J\")\n",
        "print(\"Energía mecánica Em:\", Em, \"J\")"
      ],
      "metadata": {
        "colab": {
          "base_uri": "https://localhost:8080/"
        },
        "id": "UnhjLu4PwXZq",
        "outputId": "74386f2d-2a63-45c9-d519-abf9b2fcdf7b"
      },
      "execution_count": 7,
      "outputs": [
        {
          "output_type": "stream",
          "name": "stdout",
          "text": [
            "Energía cinética Ec: 9.0 J\n",
            "Energía potencial Ep: 1.9600000000000002 J\n",
            "Energía mecánica Em: 10.96 J\n"
          ]
        }
      ]
    },
    {
      "cell_type": "markdown",
      "source": [
        "6.- Escribe un programa que pida un número entero y determine si es par o impar utilizando la sentencia if-elif-else. Si el valor ingresado no es un entero válido, el programa debe indicarlo y que vuelva a ejecutar el programa."
      ],
      "metadata": {
        "id": "n4PjOarJvIkR"
      }
    },
    {
      "cell_type": "code",
      "source": [
        "while True:\n",
        "    numero = input(\"Ingresa un número entero positivo: \")\n",
        "\n",
        "    if numero.isdigit():          # Validamos que solo sean dígitos\n",
        "        numero = int(numero)      # Convertimos a entero\n",
        "\n",
        "        if numero % 2 == 0:       # Par si es divisible entre 2\n",
        "            print(\"El número es par\")\n",
        "        else:\n",
        "            print(\"El número es impar\")\n",
        "        break                     # Salimos del ciclo\n",
        "    else:\n",
        "        print(\"Entrada no válida. Intenta otra vez.\")"
      ],
      "metadata": {
        "id": "6H6niRlbxsr3"
      },
      "execution_count": null,
      "outputs": []
    },
    {
      "cell_type": "markdown",
      "source": [
        "7.- Tipo de triángulo."
      ],
      "metadata": {
        "id": "lnLyzc7VvNay"
      }
    },
    {
      "cell_type": "code",
      "source": [
        "a = int(input(\"Lado a (entero positivo): \"))\n",
        "b = int(input(\"Lado b (entero positivo): \"))\n",
        "c = int(input(\"Lado c (entero positivo): \"))\n",
        "\n",
        "# a) Validar desigualdad de triangulo\n",
        "if a <= 0 or b <= 0 or c <= 0:\n",
        "    print(\"Los lados deben ser positivos.\")\n",
        "elif a + b <= c or a + c <= b or b + c <= a:\n",
        "    print(\"No forman un triángulo (falla la desigualdad triangular).\")\n",
        "else:\n",
        "    # b) Clasificar el triangulo\n",
        "    if a == b == c:\n",
        "        print(\"Triángulo equilátero.\")\n",
        "    elif a == b or a == c or b == c:\n",
        "        print(\"Triángulo isósceles.\")1\n",
        "    else:\n",
        "        print(\"Triángulo escaleno.\")"
      ],
      "metadata": {
        "colab": {
          "base_uri": "https://localhost:8080/"
        },
        "id": "8PrQaq36z7UX",
        "outputId": "97887c7e-616c-4533-b206-912c88e91d93"
      },
      "execution_count": 12,
      "outputs": [
        {
          "output_type": "stream",
          "name": "stdout",
          "text": [
            "Lado a (entero positivo): 1\n",
            "Lado b (entero positivo): 1\n",
            "Lado c (entero positivo): 1\n",
            "Triángulo equilátero.\n"
          ]
        }
      ]
    },
    {
      "cell_type": "markdown",
      "source": [
        "8.- Crea un script en Python que determine cuál de tres números introducidos por el usuario es el mayor, usando sentencias IF anidadas o múltiples ELIF."
      ],
      "metadata": {
        "id": "L_3qiMKUvO8J"
      }
    },
    {
      "cell_type": "code",
      "source": [
        "x = float(input(\"Número 1: \"))\n",
        "y = float(input(\"Número 2: \"))\n",
        "z = float(input(\"Número 3: \"))\n",
        "\n",
        "if x >= y and x >= z:\n",
        "    mayor = x\n",
        "elif y >= x and y >= z:\n",
        "    mayor = y\n",
        "else:\n",
        "    mayor = z\n",
        "\n",
        "print(\"El mayor es:\", mayor)"
      ],
      "metadata": {
        "colab": {
          "base_uri": "https://localhost:8080/"
        },
        "id": "3j8Mfsfy0fTR",
        "outputId": "112662c0-d201-4f73-b13f-896a9699ef2d"
      },
      "execution_count": 13,
      "outputs": [
        {
          "output_type": "stream",
          "name": "stdout",
          "text": [
            "Número 1: 1\n",
            "Número 2: 2\n",
            "Número 3: 3\n",
            "El mayor es: 3.0\n"
          ]
        }
      ]
    },
    {
      "cell_type": "markdown",
      "source": [
        "9.- Programe un script en Python que determine si dos rectas dadas por las ecuaciones y1=m1x + b1 y y2=m2x+b2 se intersectan, son paralelas o coincidentes. Utilice estructuras de control (IF - ELSE) para manejar los diferentes casos."
      ],
      "metadata": {
        "id": "ThQ2YJbyvQKu"
      }
    },
    {
      "cell_type": "code",
      "source": [
        "m1 = float(input(\"m1: \"))\n",
        "b1 = float(input(\"b1: \"))\n",
        "m2 = float(input(\"m2: \"))\n",
        "b2 = float(input(\"b2: \"))\n",
        "\n",
        "if m1 == m2:\n",
        "    if b1 == b2:\n",
        "        print(\"Coinciden (infinitas soluciones).\")\n",
        "    else:\n",
        "        print(\"Paralelas (no se intersectan).\")\n",
        "else:\n",
        "    x = (b2 - b1) / (m1 - m2)\n",
        "    y = m1 * x + b1\n",
        "    print(\"Se intersectan en el punto (\", x, \",\", y, \").\")"
      ],
      "metadata": {
        "id": "aXHwWGL10nW6"
      },
      "execution_count": null,
      "outputs": []
    },
    {
      "cell_type": "markdown",
      "source": [
        "10.- Escriba un programa que solicite al usuario un año y que el programa indique si es bisiesto o no. Recuerde, los años bisiestos son múltiplos de 4, no es el caso para los múltiplos de 100, pero si para los múltiplos de 400."
      ],
      "metadata": {
        "id": "w9gpGWAuvRvU"
      }
    },
    {
      "cell_type": "code",
      "source": [
        "year = int(input(\"Año: \")) # uso \"year\" para no usar la \"ñ\" en \"año\"\n",
        "\n",
        "if (year % 4 == 0 and year % 100 != 0) or (year % 400 == 0):\n",
        "    print(\"Es bisiesto.\")\n",
        "else:\n",
        "    print(\"No es bisiesto.\")"
      ],
      "metadata": {
        "colab": {
          "base_uri": "https://localhost:8080/"
        },
        "id": "tdvdrIIItEY1",
        "outputId": "fe4aa913-6e5b-48c1-a7e0-8637a8b2093d"
      },
      "execution_count": 14,
      "outputs": [
        {
          "output_type": "stream",
          "name": "stdout",
          "text": [
            "Año: 1963\n",
            "No es bisiesto.\n"
          ]
        }
      ]
    }
  ]
}